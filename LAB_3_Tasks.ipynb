{
  "nbformat": 4,
  "nbformat_minor": 0,
  "metadata": {
    "colab": {
      "provenance": [],
      "toc_visible": true
    },
    "kernelspec": {
      "name": "python3",
      "display_name": "Python 3"
    },
    "language_info": {
      "name": "python"
    }
  },
  "cells": [
    {
      "cell_type": "code",
      "source": [],
      "metadata": {
        "id": "mxS4Zp_F2jFn"
      },
      "execution_count": null,
      "outputs": []
    },
    {
      "cell_type": "code",
      "source": [
        "graph = {\n",
        "    \"Arad\": [\"Zerind\", \"Timisoara\", \"Sibiu\"],\n",
        "    \"Zerind\": [\"Arad\", \"Oradea\"],\n",
        "    \"Oradea\": [\"Zerind\", \"Sibiu\"],\n",
        "    \"Sibiu\": [\"Arad\", \"Oradea\", \"Fagaras\", \"Rimnicu Vilcea\"],\n",
        "    \"Timisoara\": [\"Arad\", \"Lugoj\"],\n",
        "    \"Lugoj\": [\"Timisoara\", \"Mehadia\"],\n",
        "    \"Mehadia\": [\"Lugoj\", \"Drobeta\"],\n",
        "    \"Drobeta\": [\"Mehadia\", \"Craiova\"],\n",
        "    \"Craiova\": [\"Drobeta\", \"Rimnicu Vilcea\", \"Pitesti\"],\n",
        "    \"Rimnicu Vilcea\": [\"Sibiu\", \"Craiova\", \"Pitesti\"],\n",
        "    \"Fagaras\": [\"Sibiu\", \"Bucharest\"],\n",
        "    \"Pitesti\": [\"Rimnicu Vilcea\", \"Craiova\", \"Bucharest\"],\n",
        "    \"Bucharest\": [\"Fagaras\", \"Pitesti\", \"Giurgiu\", \"Urziceni\"],\n",
        "    \"Giurgiu\": [\"Bucharest\"],\n",
        "    \"Urziceni\": [\"Bucharest\", \"Vaslui\", \"Hirsova\"],\n",
        "    \"Hirsova\": [\"Urziceni\", \"Eforie\"],\n",
        "    \"Eforie\": [\"Hirsova\"],\n",
        "    \"Vaslui\": [\"Urziceni\", \"Iasi\"],\n",
        "    \"Iasi\": [\"Vaslui\", \"Neamt\"],\n",
        "    \"Neamt\": [\"Iasi\"]\n",
        "}\n",
        "\n",
        "def bfs_iterative(tree, start_node, end_node):\n",
        "    visited = set()\n",
        "\n",
        "    queue = [start_node]\n",
        "\n",
        "    traversal_order = []\n",
        "\n",
        "    while queue:\n",
        "        current_node = queue.pop(0)\n",
        "\n",
        "        if current_node not in visited:\n",
        "            visited.add(current_node)\n",
        "            traversal_order.append(current_node)\n",
        "\n",
        "            if current_node == end_node:\n",
        "                return traversal_order\n",
        "\n",
        "            for child in tree.get(current_node, []):\n",
        "                if child not in visited:\n",
        "                    queue.append(child)\n",
        "\n",
        "    return traversal_order\n",
        "start_node=input(\"Start Node: \")\n",
        "end_node=input(\"End Node: \")\n",
        "\n",
        "result = bfs_iterative(graph, start_node, end_node)\n",
        "print(\"BFS traversal order:\", result)\n"
      ],
      "metadata": {
        "colab": {
          "base_uri": "https://localhost:8080/"
        },
        "id": "cVVZqwQw1uqp",
        "outputId": "ba7aa59d-1c78-4208-93e9-2443ec4dda26"
      },
      "execution_count": null,
      "outputs": [
        {
          "output_type": "stream",
          "name": "stdout",
          "text": [
            "Start Node: Arad\n",
            "End Node: Iasi\n",
            "BFS traversal order: ['Arad', 'Zerind', 'Timisoara', 'Sibiu', 'Oradea', 'Lugoj', 'Fagaras', 'Rimnicu Vilcea', 'Mehadia', 'Bucharest', 'Craiova', 'Pitesti', 'Drobeta', 'Giurgiu', 'Urziceni', 'Vaslui', 'Hirsova', 'Iasi']\n"
          ]
        }
      ]
    },
    {
      "cell_type": "code",
      "source": [],
      "metadata": {
        "id": "I5xes-SKaxba"
      },
      "execution_count": null,
      "outputs": []
    },
    {
      "cell_type": "code",
      "source": [
        "from operator import itemgetter\n",
        "\n",
        "graph = {'Arad': [['Zerind', 75, 374], ['Timisoara', 118, 329], ['Sibiu', 140, 253]],\n",
        "         'Zerind': [['Oradea', 71, 380], ['Arad', 75, 366]],\n",
        "         'Oradea': [['Zerind', 71, 374], ['Sibiu', 151, 253]],\n",
        "         'Sibiu': [['Rimniciu Vilcea', 80, 193], ['Fagaras', 99, 176], ['Arad', 140, 366], ['Oradea', 151, 380]],\n",
        "         'Fagaras': [['Sibiu', 99, 253], ['Bucharest', 211, 0]],\n",
        "         'Rimniciu Vilcea': [['Pitesti', 97, 100], ['Craiova', 146, 160], ['Sibiu', 80, 253]],\n",
        "         'Timisoara': [['Lugoj', 111, 244], ['Arad', 118, 366]],\n",
        "         'Lugoj': [['Mehadia', 70, 241], ['Timisoara', 111, 329]],\n",
        "         'Mehadia': [['Lugoj', 70, 244], ['Dobreta', 75, 242]],\n",
        "         'Dobreta': [['Mehadia', 75, 241], ['Craiova', 120, 160]],\n",
        "         'Pitesti': [['Craiova', 138, 160], ['Bucharest', 101, 0]],\n",
        "         'Craiova': [['Pitesti', 138, 100], ['Dobreta', 120, 242], ['Rimniciu Vilcea', 146, 193]],\n",
        "         'Bucharest': [['Giurgiu', 90, 77], ['Urziceni', 85, 80], ['Fagaras', 211, 178], ['Pitesti', 101, 100]],\n",
        "         'Giurgiu': [['Bucharest', 90, 0]],\n",
        "         'Urziceni': [['Vaslui', 142, 199], ['Hirsova', 98, 151], ['Bucharest', 85, 0]],\n",
        "         'Vaslui': [['Lasi', 92, 226], ['Urziceni', 142, 80]],\n",
        "         'Lasi': [['Neamt', 87, 234], ['Vaslui', 92, 199]],\n",
        "         'Neamt': [['Lasi', 87, 226]],\n",
        "         'Hirsova': [['Eforie', 86, 161], ['Urziceni', 98, 80]],\n",
        "         'Eforie': [['Hirsova', 86, 151]], }\n",
        "\n",
        "def astarik_traversal(graph, start, goal):\n",
        "    opened = [start]\n",
        "    closed = []\n",
        "    while opened:\n",
        "        node = opened.pop(0)\n",
        "        print('Current:', node)\n",
        "\n",
        "        if node[0] == goal[0]:\n",
        "            closed.append(node)\n",
        "            print('Closed:', closed)\n",
        "            return [a[0] for a in closed]\n",
        "\n",
        "        closed.append(node)\n",
        "        opened_cities = [x[0] for x in opened]\n",
        "        closed_cities = [x[0] for x in closed]\n",
        "\n",
        "        for item in graph[node[0]]:\n",
        "            if item[0] not in opened_cities and item[0] not in closed_cities:\n",
        "                new_node = [item[0], node[1] + item[1], item[2]]\n",
        "                opened.append(new_node)\n",
        "\n",
        "        print('Open:', opened)\n",
        "        opened.sort(key=lambda element: element[1] + element[2])\n",
        "        print('Sorted Open:', opened)\n",
        "\n",
        "    return 'GOAL Not FOUND'\n",
        "\n",
        "print(astarik_traversal(graph, ['Arad', 0, 366], ['Fagaras', 0, 0]))\n"
      ],
      "metadata": {
        "colab": {
          "base_uri": "https://localhost:8080/"
        },
        "id": "u7w_25r7ba53",
        "outputId": "fec78038-9e3c-4c19-b6bc-85b7cdb5cb2f"
      },
      "execution_count": null,
      "outputs": [
        {
          "output_type": "stream",
          "name": "stdout",
          "text": [
            "Current: ['Arad', 0, 366]\n",
            "Open: [['Zerind', 75, 374], ['Timisoara', 118, 329], ['Sibiu', 140, 253]]\n",
            "Sorted Open: [['Sibiu', 140, 253], ['Timisoara', 118, 329], ['Zerind', 75, 374]]\n",
            "Current: ['Sibiu', 140, 253]\n",
            "Open: [['Timisoara', 118, 329], ['Zerind', 75, 374], ['Rimniciu Vilcea', 220, 193], ['Fagaras', 239, 176], ['Oradea', 291, 380]]\n",
            "Sorted Open: [['Rimniciu Vilcea', 220, 193], ['Fagaras', 239, 176], ['Timisoara', 118, 329], ['Zerind', 75, 374], ['Oradea', 291, 380]]\n",
            "Current: ['Rimniciu Vilcea', 220, 193]\n",
            "Open: [['Fagaras', 239, 176], ['Timisoara', 118, 329], ['Zerind', 75, 374], ['Oradea', 291, 380], ['Pitesti', 317, 100], ['Craiova', 366, 160]]\n",
            "Sorted Open: [['Fagaras', 239, 176], ['Pitesti', 317, 100], ['Timisoara', 118, 329], ['Zerind', 75, 374], ['Craiova', 366, 160], ['Oradea', 291, 380]]\n",
            "Current: ['Fagaras', 239, 176]\n",
            "Closed: [['Arad', 0, 366], ['Sibiu', 140, 253], ['Rimniciu Vilcea', 220, 193], ['Fagaras', 239, 176]]\n",
            "['Arad', 'Sibiu', 'Rimniciu Vilcea', 'Fagaras']\n"
          ]
        }
      ]
    }
  ]
}