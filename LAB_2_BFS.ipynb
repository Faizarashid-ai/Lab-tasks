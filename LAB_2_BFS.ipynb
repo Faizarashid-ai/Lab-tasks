{
  "nbformat": 4,
  "nbformat_minor": 0,
  "metadata": {
    "colab": {
      "provenance": [],
      "toc_visible": true
    },
    "kernelspec": {
      "name": "python3",
      "display_name": "Python 3"
    },
    "language_info": {
      "name": "python"
    }
  },
  "cells": [
    {
      "cell_type": "code",
      "source": [
        "#BFS TREE WITHOUT CYCLES\n",
        "graph={'A':['B','C','D'],'B':['E','F'],'C':['G','H'],'D':['I','J'],'E':['K','L'],'F':['L','M'],'G':['N'],'H':['O','P'],'I':['P','Q'],'J':['R'],\n",
        "      'K':['S'],'L':['T'],'M':[],'N':[],'O':[],'Q':[],'R':[],'S':[],'T':[],'P':['U'],'U':[]}\n",
        "#print(graph)\n",
        "\n",
        "def bfs_recursive(tree, queue, visited, traversal_order):\n",
        "    if queue:\n",
        "        current_node = queue.pop(0)\n",
        "\n",
        "        # If the current node has not been visited\n",
        "        if current_node not in visited:\n",
        "            # Mark as visited\n",
        "            visited.add(current_node)\n",
        "\n",
        "            # Add the current node to the traversal order\n",
        "            traversal_order.append(current_node)\n",
        "            for child in tree.get(current_node, []):\n",
        "                if child not in visited:\n",
        "                    queue.append(child)\n",
        "\n",
        "        bfs_recursive(tree, queue, visited, traversal_order)\n",
        "\n",
        "def bfs(tree, start_node):\n",
        "    visited = set()\n",
        "\n",
        "    queue = [start_node]\n",
        "    traversal_order = []\n",
        "\n",
        "    bfs_recursive(tree, queue, visited, traversal_order)\n",
        "\n",
        "    return traversal_order\n",
        "\n",
        "# Running BFS starting from node 'A'\n",
        "start_node = 'A'\n",
        "result = bfs(graph, start_node)\n",
        "print(\"BFS traversal order:\", result)\n",
        "\n"
      ],
      "metadata": {
        "colab": {
          "base_uri": "https://localhost:8080/"
        },
        "id": "aFL6dSwGTcXQ",
        "outputId": "f45cc92c-4b90-4fe9-d727-3865c66bafd4"
      },
      "execution_count": null,
      "outputs": [
        {
          "output_type": "stream",
          "name": "stdout",
          "text": [
            "BFS traversal order: ['A', 'B', 'C', 'D', 'E', 'F', 'G', 'H', 'K', 'L', 'M', 'N', 'O', 'P', 'S', 'T', 'U']\n"
          ]
        }
      ]
    },
    {
      "cell_type": "code",
      "source": [
        "#BFS TREE WITHOUT CYCLES\n",
        "graph={'A':['B','C','D'],'B':['E','F'],'C':['G','H'],'D':['I','J'],'E':['K','L'],'F':['L','M'],'G':['N'],'H':['O','P'],'I':['P','Q'],'J':['R'],\n",
        "      'K':['S'],'L':['T'],'M':[],'N':[],'O':[],'Q':[],'R':[],'S':[],'T':[],'P':['U'],'U':[]}\n",
        "def bfs_iterative(tree, start_node):\n",
        "    # A set to keep track of visited nodes\n",
        "    visited = set()\n",
        "\n",
        "    # A list to simulate a queue\n",
        "    queue = [start_node]\n",
        "\n",
        "    # List to store the traversal order\n",
        "    traversal_order = []\n",
        "\n",
        "    while queue:\n",
        "        # Dequeue the first element (FIFO behavior)\n",
        "        current_node = queue.pop(0)\n",
        "\n",
        "        # If not visited, process it\n",
        "        if current_node not in visited:\n",
        "            visited.add(current_node)\n",
        "            traversal_order.append(current_node)\n",
        "\n",
        "            # Enqueue all unvisited children (or neighbors)\n",
        "            for child in tree.get(current_node, []):\n",
        "                if child not in visited:\n",
        "                    queue.append(child)\n",
        "\n",
        "    return traversal_order\n",
        "\n",
        "# Example tree represented as a dictionary\n",
        "tree = {\n",
        "    'A': ['B', 'C'],\n",
        "    'B': ['D', 'E'],\n",
        "    'C': ['F'],\n",
        "    'D': [],\n",
        "    'E': [],\n",
        "    'F': []\n",
        "}\n",
        "\n",
        "# Running BFS starting from node 'A'\n",
        "start_node = 'A'\n",
        "result = bfs_iterative(tree, start_node)\n",
        "print(\"BFS traversal order:\", result)\n"
      ],
      "metadata": {
        "colab": {
          "base_uri": "https://localhost:8080/"
        },
        "id": "zbo7aEOIEuhV",
        "outputId": "d801dcce-28fc-4742-8a45-7c716d23ef3e"
      },
      "execution_count": null,
      "outputs": [
        {
          "output_type": "stream",
          "name": "stdout",
          "text": [
            "BFS traversal order: ['A', 'B', 'C', 'D', 'E', 'F']\n"
          ]
        }
      ]
    },
    {
      "cell_type": "code",
      "source": [
        "#BFS TREE WITHOUT CYCLES\n",
        "graph={'A':['B','C','D'],'B':['E','F'],'C':['G','H'],'D':['I','J'],'E':['K','L'],'F':['L','M'],'G':['N'],'H':['O','P'],'I':['P','Q'],'J':['R'],\n",
        "      'K':['S'],'L':['T'],'M':[],'N':[],'O':[],'Q':[],'R':[],'S':[],'T':[],'P':['U'],'U':[]}\n",
        "def bfs_iterative(tree, start_node, end_node):\n",
        "    # A set to keep track of visited nodes\n",
        "    visited = set()\n",
        "\n",
        "    # A list to simulate a queue\n",
        "    queue = [start_node]\n",
        "\n",
        "    # List to store the traversal order\n",
        "    traversal_order = []\n",
        "\n",
        "    while queue:\n",
        "        current_node = queue.pop(0)\n",
        "\n",
        "        if current_node not in visited:\n",
        "            visited.add(current_node)\n",
        "            traversal_order.append(current_node)\n",
        "\n",
        "            if current_node == end_node:\n",
        "                return traversal_order\n",
        "\n",
        "            for child in tree.get(current_node, []):\n",
        "                if child not in visited:\n",
        "                    queue.append(child)\n",
        "\n",
        "    return traversal_order\n",
        "\n",
        "tree = {\n",
        "    'A': ['B', 'C'],\n",
        "    'B': ['D', 'E'],\n",
        "    'C': ['F'],\n",
        "    'D': [],\n",
        "    'E': [],\n",
        "    'F': []\n",
        "}\n",
        "\n",
        "start_node=input(\"Start Node: \")\n",
        "end_node=input(\"End Node: \")\n",
        "\n",
        "result = bfs_iterative(graph, start_node, end_node)\n",
        "print(\"BFS traversal order:\", result)\n"
      ],
      "metadata": {
        "colab": {
          "base_uri": "https://localhost:8080/"
        },
        "id": "3TV1ieuYFR8S",
        "outputId": "538a7626-d77c-402a-ade4-34af139350b7"
      },
      "execution_count": null,
      "outputs": [
        {
          "output_type": "stream",
          "name": "stdout",
          "text": [
            "Start Node: B\n",
            "End Node: H\n",
            "BFS traversal order: ['B', 'E', 'F', 'K', 'L', 'M', 'S', 'T']\n"
          ]
        }
      ]
    },
    {
      "cell_type": "code",
      "source": [
        "#BFS WITH CYCLES\n",
        "graph = {\n",
        "    \"Arad\": [\"Zerind\", \"Timisoara\", \"Sibiu\"],\n",
        "    \"Zerind\": [\"Arad\", \"Oradea\"],\n",
        "    \"Oradea\": [\"Zerind\", \"Sibiu\"],\n",
        "    \"Sibiu\": [\"Arad\", \"Oradea\", \"Fagaras\", \"Rimnicu Vilcea\"],\n",
        "    \"Timisoara\": [\"Arad\", \"Lugoj\"],\n",
        "    \"Lugoj\": [\"Timisoara\", \"Mehadia\"],\n",
        "    \"Mehadia\": [\"Lugoj\", \"Drobeta\"],\n",
        "    \"Drobeta\": [\"Mehadia\", \"Craiova\"],\n",
        "    \"Craiova\": [\"Drobeta\", \"Rimnicu Vilcea\", \"Pitesti\"],\n",
        "    \"Rimnicu Vilcea\": [\"Sibiu\", \"Craiova\", \"Pitesti\"],\n",
        "    \"Fagaras\": [\"Sibiu\", \"Bucharest\"],\n",
        "    \"Pitesti\": [\"Rimnicu Vilcea\", \"Craiova\", \"Bucharest\"],\n",
        "    \"Bucharest\": [\"Fagaras\", \"Pitesti\", \"Giurgiu\", \"Urziceni\"],\n",
        "    \"Giurgiu\": [\"Bucharest\"],\n",
        "    \"Urziceni\": [\"Bucharest\", \"Vaslui\", \"Hirsova\"],\n",
        "    \"Hirsova\": [\"Urziceni\", \"Eforie\"],\n",
        "    \"Eforie\": [\"Hirsova\"],\n",
        "    \"Vaslui\": [\"Urziceni\", \"Iasi\"],\n",
        "    \"Iasi\": [\"Vaslui\", \"Neamt\"],\n",
        "    \"Neamt\": [\"Iasi\"]\n",
        "}\n",
        "print(graph)"
      ],
      "metadata": {
        "id": "Ag7VSMdKci00",
        "colab": {
          "base_uri": "https://localhost:8080/"
        },
        "outputId": "ebe2aa7e-2762-4045-c5b2-4f17ca84b52b"
      },
      "execution_count": null,
      "outputs": [
        {
          "output_type": "stream",
          "name": "stdout",
          "text": [
            "{'Arad': ['Zerind', 'Timisoara', 'Sibiu'], 'Zerind': ['Arad', 'Oradea'], 'Oradea': ['Zerind', 'Sibiu'], 'Sibiu': ['Arad', 'Oradea', 'Fagaras', 'Rimnicu Vilcea'], 'Timisoara': ['Arad', 'Lugoj'], 'Lugoj': ['Timisoara', 'Mehadia'], 'Mehadia': ['Lugoj', 'Drobeta'], 'Drobeta': ['Mehadia', 'Craiova'], 'Craiova': ['Drobeta', 'Rimnicu Vilcea', 'Pitesti'], 'Rimnicu Vilcea': ['Sibiu', 'Craiova', 'Pitesti'], 'Fagaras': ['Sibiu', 'Bucharest'], 'Pitesti': ['Rimnicu Vilcea', 'Craiova', 'Bucharest'], 'Bucharest': ['Fagaras', 'Pitesti', 'Giurgiu', 'Urziceni'], 'Giurgiu': ['Bucharest'], 'Urziceni': ['Bucharest', 'Vaslui', 'Hirsova'], 'Hirsova': ['Urziceni', 'Eforie'], 'Eforie': ['Hirsova'], 'Vaslui': ['Urziceni', 'Iasi'], 'Iasi': ['Vaslui', 'Neamt'], 'Neamt': ['Iasi']}\n"
          ]
        }
      ]
    },
    {
      "cell_type": "code",
      "source": [
        "\n",
        "graph = {\n",
        "    \"Arad\": [\"Zerind\", \"Timisoara\", \"Sibiu\"],\n",
        "    \"Zerind\": [\"Arad\", \"Oradea\"],\n",
        "    \"Oradea\": [\"Zerind\", \"Sibiu\"],\n",
        "    \"Sibiu\": [\"Arad\", \"Oradea\", \"Fagaras\", \"Rimnicu Vilcea\"],\n",
        "    \"Timisoara\": [\"Arad\", \"Lugoj\"],\n",
        "    \"Lugoj\": [\"Timisoara\", \"Mehadia\"],\n",
        "    \"Mehadia\": [\"Lugoj\", \"Drobeta\"],\n",
        "    \"Drobeta\": [\"Mehadia\", \"Craiova\"],\n",
        "    \"Craiova\": [\"Drobeta\", \"Rimnicu Vilcea\", \"Pitesti\"],\n",
        "    \"Rimnicu Vilcea\": [\"Sibiu\", \"Craiova\", \"Pitesti\"],\n",
        "    \"Fagaras\": [\"Sibiu\", \"Bucharest\"],\n",
        "    \"Pitesti\": [\"Rimnicu Vilcea\", \"Craiova\", \"Bucharest\"],\n",
        "    \"Bucharest\": [\"Fagaras\", \"Pitesti\", \"Giurgiu\", \"Urziceni\"],\n",
        "    \"Giurgiu\": [\"Bucharest\"],\n",
        "    \"Urziceni\": [\"Bucharest\", \"Vaslui\", \"Hirsova\"],\n",
        "    \"Hirsova\": [\"Urziceni\", \"Eforie\"],\n",
        "    \"Eforie\": [\"Hirsova\"],\n",
        "    \"Vaslui\": [\"Urziceni\", \"Iasi\"],\n",
        "    \"Iasi\": [\"Vaslui\", \"Neamt\"],\n",
        "    \"Neamt\": [\"Iasi\"]\n",
        "}\n",
        "\n",
        "def bfs_iterative(tree, start_node, end_node):\n",
        "    # A set to keep track of visited nodes\n",
        "    visited = set()\n",
        "\n",
        "    # A list to simulate a queue\n",
        "    queue = [start_node]\n",
        "\n",
        "    # List to store the traversal order\n",
        "    traversal_order = []\n",
        "\n",
        "    while queue:\n",
        "        # Dequeue the first element (FIFO behavior)\n",
        "        current_node = queue.pop(0)\n",
        "\n",
        "        # If not visited, process it\n",
        "        if current_node not in visited:\n",
        "            visited.add(current_node)\n",
        "            traversal_order.append(current_node)\n",
        "\n",
        "            # Stop if we reach the end node\n",
        "            if current_node == end_node:\n",
        "                return traversal_order  # Stop and return the path\n",
        "\n",
        "            # Enqueue all unvisited children (or neighbors)\n",
        "            for child in tree.get(current_node, []):\n",
        "                if child not in visited:\n",
        "                    queue.append(child)\n",
        "\n",
        "    return traversal_order  # Return traversal order even if end node isn't found\n",
        "start_node=input(\"Start Node: \")\n",
        "end_node=input(\"End Node: \")\n",
        "\n",
        "result = bfs_iterative(graph, start_node, end_node)\n",
        "print(\"BFS traversal order:\", result)\n"
      ],
      "metadata": {
        "colab": {
          "base_uri": "https://localhost:8080/"
        },
        "id": "cVVZqwQw1uqp",
        "outputId": "f93fd33b-3a8e-4a50-800c-4e5579de32ae"
      },
      "execution_count": null,
      "outputs": [
        {
          "output_type": "stream",
          "name": "stdout",
          "text": [
            "Start Node: Arad\n",
            "End Node: Iasi\n",
            "BFS traversal order: ['Arad', 'Zerind', 'Timisoara', 'Sibiu', 'Oradea', 'Lugoj', 'Fagaras', 'Rimnicu Vilcea', 'Mehadia', 'Bucharest', 'Craiova', 'Pitesti', 'Drobeta', 'Giurgiu', 'Urziceni', 'Vaslui', 'Hirsova', 'Iasi']\n"
          ]
        }
      ]
    },
    {
      "cell_type": "code",
      "source": [],
      "metadata": {
        "id": "uGwGkzx104_5"
      },
      "execution_count": null,
      "outputs": []
    }
  ]
}