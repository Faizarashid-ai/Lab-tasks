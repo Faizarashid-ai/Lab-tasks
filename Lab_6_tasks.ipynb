{
  "nbformat": 4,
  "nbformat_minor": 0,
  "metadata": {
    "colab": {
      "provenance": []
    },
    "kernelspec": {
      "name": "python3",
      "display_name": "Python 3"
    },
    "language_info": {
      "name": "python"
    }
  },
  "cells": [
    {
      "cell_type": "code",
      "source": [
        "import pandas as pd\n",
        "from sklearn.impute import SimpleImputer\n",
        "from sklearn.preprocessing import OneHotEncoder\n",
        "from sklearn.pipeline import Pipeline\n",
        "\n",
        "titanic = pd.read_csv('titanic.csv')\n",
        "# Create FamilySize feature\n",
        "titanic['FamilySize'] = titanic['SibSp'] + titanic['Parch'] + 1\n",
        "\n",
        "print(titanic[['SibSp', 'Parch', 'FamilySize']].head())\n",
        "print(titanic[['FamilySize']])"
      ],
      "metadata": {
        "colab": {
          "base_uri": "https://localhost:8080/"
        },
        "id": "ZqYTeXCjho_w",
        "outputId": "e3e26e2f-4df6-46a1-a627-0bf1835bfd80"
      },
      "execution_count": 1,
      "outputs": [
        {
          "output_type": "stream",
          "name": "stdout",
          "text": [
            "   SibSp  Parch  FamilySize\n",
            "0      1      0           2\n",
            "1      1      0           2\n",
            "2      0      0           1\n",
            "3      1      0           2\n",
            "4      0      0           1\n",
            "     FamilySize\n",
            "0             2\n",
            "1             2\n",
            "2             1\n",
            "3             2\n",
            "4             1\n",
            "..          ...\n",
            "886           1\n",
            "887           1\n",
            "888           4\n",
            "889           1\n",
            "890           1\n",
            "\n",
            "[891 rows x 1 columns]\n"
          ]
        }
      ]
    },
    {
      "cell_type": "markdown",
      "source": [
        "Column Transformer"
      ],
      "metadata": {
        "id": "wqs4Ml817DqW"
      }
    },
    {
      "cell_type": "code",
      "execution_count": 39,
      "metadata": {
        "colab": {
          "base_uri": "https://localhost:8080/"
        },
        "id": "8EFAniAlGxFe",
        "outputId": "a11f3817-0716-4f02-f1af-bb1b5d29eba6"
      },
      "outputs": [
        {
          "output_type": "stream",
          "name": "stdout",
          "text": [
            "             0        1    2    3    4    5    6    7    8    9\n",
            "0    22.000000   7.2500  1.0  0.0  0.0  1.0  0.0  0.0  1.0  0.0\n",
            "1    38.000000  71.2833  1.0  0.0  1.0  0.0  1.0  0.0  0.0  0.0\n",
            "2    26.000000   7.9250  0.0  0.0  1.0  0.0  0.0  0.0  1.0  0.0\n",
            "3    35.000000  53.1000  1.0  0.0  1.0  0.0  0.0  0.0  1.0  0.0\n",
            "4    35.000000   8.0500  0.0  0.0  0.0  1.0  0.0  0.0  1.0  0.0\n",
            "..         ...      ...  ...  ...  ...  ...  ...  ...  ...  ...\n",
            "886  27.000000  13.0000  0.0  0.0  0.0  1.0  0.0  0.0  1.0  0.0\n",
            "887  19.000000  30.0000  0.0  0.0  1.0  0.0  0.0  0.0  1.0  0.0\n",
            "888  29.699118  23.4500  1.0  2.0  1.0  0.0  0.0  0.0  1.0  0.0\n",
            "889  26.000000  30.0000  0.0  0.0  0.0  1.0  1.0  0.0  0.0  0.0\n",
            "890  32.000000   7.7500  0.0  0.0  0.0  1.0  0.0  1.0  0.0  0.0\n",
            "\n",
            "[891 rows x 10 columns]\n"
          ]
        }
      ],
      "source": [
        "import pandas as pd\n",
        "from sklearn.impute import SimpleImputer\n",
        "from sklearn.preprocessing import OneHotEncoder\n",
        "from sklearn.pipeline import Pipeline\n",
        "\n",
        "df = pd.read_csv('titanic.csv')\n",
        "\n",
        "# Select only relevant columns\n",
        "df = df[['Age', 'Fare', 'SibSp', 'Parch', 'Sex', 'Embarked']]\n",
        "\n",
        "numeric_features = ['Age', 'Fare', 'SibSp', 'Parch']\n",
        "categorical_features = ['Sex', 'Embarked']\n",
        "\n",
        "preprocessor = ColumnTransformer(transformers=[\n",
        "    ('age_imputer', SimpleImputer(strategy='mean'), numeric_features),\n",
        "    ('ohe', OneHotEncoder(), categorical_features)\n",
        "], remainder='passthrough')\n",
        "\n",
        "\n",
        "transformed_data = preprocessor.fit_transform(df)\n",
        "\n",
        "transformed_df = pd.DataFrame(transformed_data)\n",
        "\n",
        "\n",
        "print(transformed_df)"
      ]
    },
    {
      "cell_type": "code",
      "source": [
        "import pandas as pd\n",
        "from sklearn.impute import SimpleImputer\n",
        "from sklearn.preprocessing import OneHotEncoder\n",
        "from sklearn.compose import ColumnTransformer\n",
        "from sklearn.pipeline import Pipeline\n",
        "\n",
        "df = pd.read_csv('titanic.csv')\n",
        "\n",
        "# Select only relevant columns\n",
        "df = df[['Age', 'Fare', 'SibSp', 'Parch', 'Sex', 'Embarked']]\n",
        "\n",
        "numeric_features = ['Age', 'Fare', 'SibSp', 'Parch']\n",
        "categorical_features = ['Sex', 'Embarked']\n",
        "\n",
        "preprocessor = ColumnTransformer(transformers=[\n",
        "    ('age_imputer', SimpleImputer(strategy='mean'), numeric_features),\n",
        "    ('ohe', OneHotEncoder(), categorical_features)\n",
        "], remainder='passthrough')\n",
        "\n",
        "\n",
        "transformed_data = preprocessor.fit_transform(df)\n",
        "\n",
        "numeric_columns = numeric_features\n",
        "ohe_columns = preprocessor.named_transformers_['ohe'].get_feature_names_out(categorical_features)\n",
        "\n",
        "# Create DataFrame with proper column names\n",
        "all_columns = numeric_features + list(ohe_columns) + [col for col in df.columns if col not in numeric_features + categorical_features]\n",
        "transformed_df = pd.DataFrame(transformed_data, columns=all_columns)\n",
        "\n",
        "\n",
        "print(transformed_df)"
      ],
      "metadata": {
        "colab": {
          "base_uri": "https://localhost:8080/"
        },
        "id": "n4qx9dABTVP5",
        "outputId": "e0bd6d83-33c7-4550-a989-86b867eade20"
      },
      "execution_count": 40,
      "outputs": [
        {
          "output_type": "stream",
          "name": "stdout",
          "text": [
            "           Age     Fare  SibSp  Parch  Sex_female  Sex_male  Embarked_C  \\\n",
            "0    22.000000   7.2500    1.0    0.0         0.0       1.0         0.0   \n",
            "1    38.000000  71.2833    1.0    0.0         1.0       0.0         1.0   \n",
            "2    26.000000   7.9250    0.0    0.0         1.0       0.0         0.0   \n",
            "3    35.000000  53.1000    1.0    0.0         1.0       0.0         0.0   \n",
            "4    35.000000   8.0500    0.0    0.0         0.0       1.0         0.0   \n",
            "..         ...      ...    ...    ...         ...       ...         ...   \n",
            "886  27.000000  13.0000    0.0    0.0         0.0       1.0         0.0   \n",
            "887  19.000000  30.0000    0.0    0.0         1.0       0.0         0.0   \n",
            "888  29.699118  23.4500    1.0    2.0         1.0       0.0         0.0   \n",
            "889  26.000000  30.0000    0.0    0.0         0.0       1.0         1.0   \n",
            "890  32.000000   7.7500    0.0    0.0         0.0       1.0         0.0   \n",
            "\n",
            "     Embarked_Q  Embarked_S  Embarked_nan  \n",
            "0           0.0         1.0           0.0  \n",
            "1           0.0         0.0           0.0  \n",
            "2           0.0         1.0           0.0  \n",
            "3           0.0         1.0           0.0  \n",
            "4           0.0         1.0           0.0  \n",
            "..          ...         ...           ...  \n",
            "886         0.0         1.0           0.0  \n",
            "887         0.0         1.0           0.0  \n",
            "888         0.0         1.0           0.0  \n",
            "889         0.0         0.0           0.0  \n",
            "890         1.0         0.0           0.0  \n",
            "\n",
            "[891 rows x 10 columns]\n"
          ]
        }
      ]
    },
    {
      "cell_type": "code",
      "source": [
        "import pandas as pd\n",
        "from sklearn.compose import ColumnTransformer\n",
        "from sklearn.preprocessing import OneHotEncoder, FunctionTransformer\n",
        "from sklearn.impute import SimpleImputer\n",
        "\n",
        "data = pd.read_csv('titanic.csv')\n",
        "\n",
        "def impute_embarked(X):\n",
        "    X['Embarked'] = X['Embarked'].fillna(X['Embarked'].mode()[0])\n",
        "    return X\n",
        "\n",
        "preprocessor = ColumnTransformer(transformers=[\n",
        "    ('age_imputer', SimpleImputer(strategy='mean'), ['Age']),\n",
        "    ('embarked_imputer', FunctionTransformer(impute_embarked), ['Embarked']),\n",
        "    ('ohe', OneHotEncoder(handle_unknown='ignore'), ['Sex', 'Embarked'])\n",
        "], remainder='passthrough')\n",
        "\n",
        "transformed_data = preprocessor.fit_transform(data)\n",
        "\n",
        "#  Extract column names\n",
        "ohe = preprocessor.named_transformers_['ohe']\n",
        "ohe_features = ohe.get_feature_names_out(['Sex', 'Embarked'])\n",
        "\n",
        "#Combine all column names\n",
        "all_columns = (\n",
        "    ['Age'] + ['Embarked'] + list(ohe_features) + [col for col in data.columns if col not in ['Age', 'Embarked', 'Sex']]  # remainder='passthrough'\n",
        ")\n",
        "\n",
        "transformed_df = pd.DataFrame(transformed_data, columns=all_columns)\n",
        "\n",
        "print(\"\\nTransformed DataFrame with Proper Column Names:\")\n",
        "print(transformed_df.head())"
      ],
      "metadata": {
        "colab": {
          "base_uri": "https://localhost:8080/"
        },
        "id": "uQACSSn-4qzN",
        "outputId": "2e7e5a30-e4a9-4a80-9d2e-051161c821d0"
      },
      "execution_count": 55,
      "outputs": [
        {
          "output_type": "stream",
          "name": "stdout",
          "text": [
            "\n",
            "Transformed DataFrame with Proper Column Names:\n",
            "    Age Embarked Sex_female Sex_male Embarked_C Embarked_Q Embarked_S  \\\n",
            "0  22.0        S        0.0      1.0        0.0        0.0        1.0   \n",
            "1  38.0        C        1.0      0.0        1.0        0.0        0.0   \n",
            "2  26.0        S        1.0      0.0        0.0        0.0        1.0   \n",
            "3  35.0        S        1.0      0.0        0.0        0.0        1.0   \n",
            "4  35.0        S        0.0      1.0        0.0        0.0        1.0   \n",
            "\n",
            "  Embarked_nan PassengerId Survived Pclass  \\\n",
            "0          0.0           1        0      3   \n",
            "1          0.0           2        1      1   \n",
            "2          0.0           3        1      3   \n",
            "3          0.0           4        1      1   \n",
            "4          0.0           5        0      3   \n",
            "\n",
            "                                                Name SibSp Parch  \\\n",
            "0                            Braund, Mr. Owen Harris     1     0   \n",
            "1  Cumings, Mrs. John Bradley (Florence Briggs Th...     1     0   \n",
            "2                             Heikkinen, Miss. Laina     0     0   \n",
            "3       Futrelle, Mrs. Jacques Heath (Lily May Peel)     1     0   \n",
            "4                           Allen, Mr. William Henry     0     0   \n",
            "\n",
            "             Ticket     Fare Cabin  \n",
            "0         A/5 21171     7.25   NaN  \n",
            "1          PC 17599  71.2833   C85  \n",
            "2  STON/O2. 3101282    7.925   NaN  \n",
            "3            113803     53.1  C123  \n",
            "4            373450     8.05   NaN  \n"
          ]
        }
      ]
    },
    {
      "cell_type": "markdown",
      "source": [
        "Pipeline"
      ],
      "metadata": {
        "id": "LUISuQJfGZzM"
      }
    },
    {
      "cell_type": "code",
      "source": [
        "import pandas as pd\n",
        "from sklearn.compose import ColumnTransformer\n",
        "from sklearn.preprocessing import OneHotEncoder, FunctionTransformer\n",
        "from sklearn.impute import SimpleImputer\n",
        "from sklearn.pipeline import Pipeline\n",
        "\n",
        "data = pd.read_csv('titanic.csv')\n",
        "\n",
        "def impute_embarked(X):\n",
        "    X['Embarked'] = X['Embarked'].fillna(X['Embarked'].mode()[0])\n",
        "    return X\n",
        "\n",
        "preprocessor = ColumnTransformer(transformers=[\n",
        "    ('age_imputer', SimpleImputer(strategy='mean'), ['Age']),\n",
        "    ('embarked_encoder', Pipeline(steps=[\n",
        "        ('imputer', FunctionTransformer(impute_embarked)),\n",
        "        ('onehot', OneHotEncoder())\n",
        "    ]), ['Embarked']),\n",
        "    ('ohe', OneHotEncoder(), ['Sex'])\n",
        "], remainder='passthrough')\n",
        "\n",
        "\n",
        "# Transform the data\n",
        "transformed_data = preprocessor.fit_transform(data)\n",
        "\n",
        "transformed_df = pd.DataFrame(transformed_data)\n",
        "\n",
        "print(\"\\nTransformed DataFrame:\")\n",
        "print(transformed_df)"
      ],
      "metadata": {
        "colab": {
          "base_uri": "https://localhost:8080/"
        },
        "id": "ObLAbMHc-0QG",
        "outputId": "a4ed1633-60e5-4f90-9b11-deb7bcf003f9"
      },
      "execution_count": 60,
      "outputs": [
        {
          "output_type": "stream",
          "name": "stdout",
          "text": [
            "\n",
            "Transformed DataFrame:\n",
            "            0    1    2    3    4    5    6  7  8   \\\n",
            "0         22.0  0.0  0.0  1.0  0.0  1.0    1  0  3   \n",
            "1         38.0  1.0  0.0  0.0  1.0  0.0    2  1  1   \n",
            "2         26.0  0.0  0.0  1.0  1.0  0.0    3  1  3   \n",
            "3         35.0  0.0  0.0  1.0  1.0  0.0    4  1  1   \n",
            "4         35.0  0.0  0.0  1.0  0.0  1.0    5  0  3   \n",
            "..         ...  ...  ...  ...  ...  ...  ... .. ..   \n",
            "886       27.0  0.0  0.0  1.0  0.0  1.0  887  0  2   \n",
            "887       19.0  0.0  0.0  1.0  1.0  0.0  888  1  1   \n",
            "888  29.699118  0.0  0.0  1.0  1.0  0.0  889  0  3   \n",
            "889       26.0  1.0  0.0  0.0  0.0  1.0  890  1  1   \n",
            "890       32.0  0.0  1.0  0.0  0.0  1.0  891  0  3   \n",
            "\n",
            "                                                    9  10 11  \\\n",
            "0                              Braund, Mr. Owen Harris  1  0   \n",
            "1    Cumings, Mrs. John Bradley (Florence Briggs Th...  1  0   \n",
            "2                               Heikkinen, Miss. Laina  0  0   \n",
            "3         Futrelle, Mrs. Jacques Heath (Lily May Peel)  1  0   \n",
            "4                             Allen, Mr. William Henry  0  0   \n",
            "..                                                 ... .. ..   \n",
            "886                              Montvila, Rev. Juozas  0  0   \n",
            "887                       Graham, Miss. Margaret Edith  0  0   \n",
            "888           Johnston, Miss. Catherine Helen \"Carrie\"  1  2   \n",
            "889                              Behr, Mr. Karl Howell  0  0   \n",
            "890                                Dooley, Mr. Patrick  0  0   \n",
            "\n",
            "                   12       13    14  \n",
            "0           A/5 21171     7.25   NaN  \n",
            "1            PC 17599  71.2833   C85  \n",
            "2    STON/O2. 3101282    7.925   NaN  \n",
            "3              113803     53.1  C123  \n",
            "4              373450     8.05   NaN  \n",
            "..                ...      ...   ...  \n",
            "886            211536     13.0   NaN  \n",
            "887            112053     30.0   B42  \n",
            "888        W./C. 6607    23.45   NaN  \n",
            "889            111369     30.0  C148  \n",
            "890            370376     7.75   NaN  \n",
            "\n",
            "[891 rows x 15 columns]\n"
          ]
        }
      ]
    },
    {
      "cell_type": "markdown",
      "source": [
        "### **Transofmers on Heart Disease Dataset**"
      ],
      "metadata": {
        "id": "DlG6cAq9Brih"
      }
    },
    {
      "cell_type": "code",
      "source": [
        "import pandas as pd\n",
        "\n",
        "heart_df = pd.read_csv('heart_disease.csv')\n",
        "print(heart_df.columns)\n"
      ],
      "metadata": {
        "colab": {
          "base_uri": "https://localhost:8080/"
        },
        "id": "MvYwwpbkE4VR",
        "outputId": "e45f5209-7038-4132-f88a-3f6e3d0fd1d0"
      },
      "execution_count": 72,
      "outputs": [
        {
          "output_type": "stream",
          "name": "stdout",
          "text": [
            "Index(['State', 'Sex', 'GeneralHealth', 'PhysicalHealthDays',\n",
            "       'MentalHealthDays', 'LastCheckupTime', 'PhysicalActivities',\n",
            "       'SleepHours', 'RemovedTeeth', 'HadHeartAttack', 'HadAngina',\n",
            "       'HadStroke', 'HadAsthma', 'HadSkinCancer', 'HadCOPD',\n",
            "       'HadDepressiveDisorder', 'HadKidneyDisease', 'HadArthritis',\n",
            "       'HadDiabetes', 'DeafOrHardOfHearing', 'BlindOrVisionDifficulty',\n",
            "       'DifficultyConcentrating', 'DifficultyWalking',\n",
            "       'DifficultyDressingBathing', 'DifficultyErrands', 'SmokerStatus',\n",
            "       'ECigaretteUsage', 'ChestScan', 'RaceEthnicityCategory', 'AgeCategory',\n",
            "       'HeightInMeters', 'WeightInKilograms', 'BMI', 'AlcoholDrinkers',\n",
            "       'HIVTesting', 'FluVaxLast12', 'PneumoVaxEver', 'TetanusLast10Tdap',\n",
            "       'HighRiskLastYear', 'CovidPos'],\n",
            "      dtype='object')\n"
          ]
        }
      ]
    },
    {
      "cell_type": "code",
      "source": [
        "heart_df = pd.read_csv('heart_disease.csv')\n",
        "print(heart_df.dtypes)"
      ],
      "metadata": {
        "colab": {
          "base_uri": "https://localhost:8080/"
        },
        "id": "ruYUJ4jiCsHI",
        "outputId": "3895764f-2f24-4ff8-a650-587e0fa3c338"
      },
      "execution_count": 69,
      "outputs": [
        {
          "output_type": "stream",
          "name": "stdout",
          "text": [
            "State                         object\n",
            "Sex                           object\n",
            "GeneralHealth                 object\n",
            "PhysicalHealthDays           float64\n",
            "MentalHealthDays             float64\n",
            "LastCheckupTime               object\n",
            "PhysicalActivities            object\n",
            "SleepHours                   float64\n",
            "RemovedTeeth                  object\n",
            "HadHeartAttack                object\n",
            "HadAngina                     object\n",
            "HadStroke                     object\n",
            "HadAsthma                     object\n",
            "HadSkinCancer                 object\n",
            "HadCOPD                       object\n",
            "HadDepressiveDisorder         object\n",
            "HadKidneyDisease              object\n",
            "HadArthritis                  object\n",
            "HadDiabetes                   object\n",
            "DeafOrHardOfHearing           object\n",
            "BlindOrVisionDifficulty       object\n",
            "DifficultyConcentrating       object\n",
            "DifficultyWalking             object\n",
            "DifficultyDressingBathing     object\n",
            "DifficultyErrands             object\n",
            "SmokerStatus                  object\n",
            "ECigaretteUsage               object\n",
            "ChestScan                     object\n",
            "RaceEthnicityCategory         object\n",
            "AgeCategory                   object\n",
            "HeightInMeters               float64\n",
            "WeightInKilograms            float64\n",
            "BMI                          float64\n",
            "AlcoholDrinkers               object\n",
            "HIVTesting                    object\n",
            "FluVaxLast12                  object\n",
            "PneumoVaxEver                 object\n",
            "TetanusLast10Tdap             object\n",
            "HighRiskLastYear              object\n",
            "CovidPos                      object\n",
            "dtype: object\n"
          ]
        }
      ]
    },
    {
      "cell_type": "markdown",
      "source": [
        "Column Transformer"
      ],
      "metadata": {
        "id": "1IvX0qFuB38h"
      }
    },
    {
      "cell_type": "code",
      "source": [
        "import pandas as pd\n",
        "from sklearn.impute import SimpleImputer\n",
        "from sklearn.preprocessing import OneHotEncoder\n",
        "from sklearn.compose import ColumnTransformer\n",
        "from sklearn.pipeline import Pipeline\n",
        "\n",
        "# Load dataset\n",
        "df = pd.read_csv('heart_disease.csv')\n",
        "\n",
        "# Select relevant columns\n",
        "numeric_features = ['PhysicalHealthDays', 'MentalHealthDays', 'SleepHours', 'HeightInMeters', 'WeightInKilograms', 'BMI']\n",
        "categorical_features = ['Sex', 'GeneralHealth', 'RaceEthnicityCategory', 'SmokerStatus']\n",
        "\n",
        "df = df[numeric_features + categorical_features]\n",
        "\n",
        "preprocessor = ColumnTransformer(transformers=[\n",
        "    ('num_imputer', SimpleImputer(strategy='mean'), numeric_features),\n",
        "    ('ohe', OneHotEncoder(), categorical_features)\n",
        "], remainder='passthrough')\n",
        "\n",
        "transformed_data = preprocessor.fit_transform(df)\n",
        "\n",
        "ohe_columns = preprocessor.named_transformers_['ohe'].get_feature_names_out(categorical_features)\n",
        "\n",
        "all_columns = numeric_features + list(ohe_columns)\n",
        "transformed_df = pd.DataFrame(transformed_data, columns=all_columns)\n",
        "\n",
        "print(transformed_df.head())\n"
      ],
      "metadata": {
        "colab": {
          "base_uri": "https://localhost:8080/"
        },
        "id": "Ez_GphcQB7eU",
        "outputId": "123b25b0-32d1-4fdd-9ab3-5c9dfde4b823"
      },
      "execution_count": 73,
      "outputs": [
        {
          "output_type": "stream",
          "name": "stdout",
          "text": [
            "   PhysicalHealthDays  MentalHealthDays  SleepHours  HeightInMeters  \\\n",
            "0                 0.0               0.0         8.0        1.702691   \n",
            "1                 0.0               0.0         6.0        1.600000   \n",
            "2                 2.0               3.0         5.0        1.570000   \n",
            "3                 0.0               0.0         7.0        1.650000   \n",
            "4                 2.0               0.0         9.0        1.570000   \n",
            "\n",
            "   WeightInKilograms        BMI  Sex_Female  Sex_Male  \\\n",
            "0           83.07447  28.529842         1.0       0.0   \n",
            "1           68.04000  26.570000         1.0       0.0   \n",
            "2           63.50000  25.610000         1.0       0.0   \n",
            "3           63.50000  23.300000         1.0       0.0   \n",
            "4           53.98000  21.770000         1.0       0.0   \n",
            "\n",
            "   GeneralHealth_Excellent  GeneralHealth_Fair  ...  \\\n",
            "0                      0.0                 0.0  ...   \n",
            "1                      1.0                 0.0  ...   \n",
            "2                      0.0                 0.0  ...   \n",
            "3                      1.0                 0.0  ...   \n",
            "4                      0.0                 1.0  ...   \n",
            "\n",
            "   RaceEthnicityCategory_Hispanic  \\\n",
            "0                             0.0   \n",
            "1                             0.0   \n",
            "2                             0.0   \n",
            "3                             0.0   \n",
            "4                             0.0   \n",
            "\n",
            "   RaceEthnicityCategory_Multiracial, Non-Hispanic  \\\n",
            "0                                              0.0   \n",
            "1                                              0.0   \n",
            "2                                              0.0   \n",
            "3                                              0.0   \n",
            "4                                              0.0   \n",
            "\n",
            "   RaceEthnicityCategory_Other race only, Non-Hispanic  \\\n",
            "0                                                0.0     \n",
            "1                                                0.0     \n",
            "2                                                0.0     \n",
            "3                                                0.0     \n",
            "4                                                0.0     \n",
            "\n",
            "   RaceEthnicityCategory_White only, Non-Hispanic  RaceEthnicityCategory_nan  \\\n",
            "0                                             1.0                        0.0   \n",
            "1                                             1.0                        0.0   \n",
            "2                                             1.0                        0.0   \n",
            "3                                             1.0                        0.0   \n",
            "4                                             1.0                        0.0   \n",
            "\n",
            "   SmokerStatus_Current smoker - now smokes every day  \\\n",
            "0                                                0.0    \n",
            "1                                                0.0    \n",
            "2                                                0.0    \n",
            "3                                                0.0    \n",
            "4                                                0.0    \n",
            "\n",
            "   SmokerStatus_Current smoker - now smokes some days  \\\n",
            "0                                                0.0    \n",
            "1                                                0.0    \n",
            "2                                                0.0    \n",
            "3                                                1.0    \n",
            "4                                                0.0    \n",
            "\n",
            "   SmokerStatus_Former smoker  SmokerStatus_Never smoked  SmokerStatus_nan  \n",
            "0                         0.0                        1.0               0.0  \n",
            "1                         0.0                        1.0               0.0  \n",
            "2                         0.0                        1.0               0.0  \n",
            "3                         0.0                        0.0               0.0  \n",
            "4                         0.0                        1.0               0.0  \n",
            "\n",
            "[5 rows x 25 columns]\n"
          ]
        }
      ]
    },
    {
      "cell_type": "markdown",
      "source": [
        "Function Transformer\n"
      ],
      "metadata": {
        "id": "oTT3ovLgGGX-"
      }
    },
    {
      "cell_type": "code",
      "source": [
        "import pandas as pd\n",
        "from sklearn.compose import ColumnTransformer\n",
        "from sklearn.preprocessing import OneHotEncoder, FunctionTransformer\n",
        "from sklearn.impute import SimpleImputer\n",
        "\n",
        "data = pd.read_csv('heart_disease.csv')\n",
        "\n",
        "def impute_race(X):\n",
        "    X = X.copy()\n",
        "    X['RaceEthnicityCategory'] = X['RaceEthnicityCategory'].fillna(X['RaceEthnicityCategory'].mode()[0])\n",
        "    return X\n",
        "\n",
        "preprocessor = ColumnTransformer(transformers=[\n",
        "    ('sleep_imputer', SimpleImputer(strategy='mean'), ['SleepHours']),\n",
        "    ('race_imputer', FunctionTransformer(impute_race), ['RaceEthnicityCategory']),\n",
        "    ('ohe', OneHotEncoder(), ['Sex', 'RaceEthnicityCategory'])\n",
        "], remainder='passthrough')\n",
        "\n",
        "transformed_data = preprocessor.fit_transform(data)\n",
        "\n",
        "ohe = preprocessor.named_transformers_['ohe']\n",
        "ohe_features = ohe.get_feature_names_out(['Sex', 'RaceEthnicityCategory'])\n",
        "\n",
        "# Combine column names\n",
        "all_columns = (\n",
        "    ['SleepHours'] + ['RaceEthnicityCategory'] + list(ohe_features) +\n",
        "    [col for col in data.columns if col not in ['SleepHours', 'RaceEthnicityCategory', 'Sex']]\n",
        ")\n",
        "\n",
        "transformed_df = pd.DataFrame(transformed_data, columns=all_columns)\n",
        "print(\"\\nTransformed DataFrame with Proper Column Names:\")\n",
        "print(transformed_df.head())\n"
      ],
      "metadata": {
        "colab": {
          "base_uri": "https://localhost:8080/"
        },
        "id": "VwhSWKhCGI5J",
        "outputId": "05be2dc7-9cf6-42b5-f014-ef37ff398ee4"
      },
      "execution_count": 91,
      "outputs": [
        {
          "output_type": "stream",
          "name": "stdout",
          "text": [
            "\n",
            "Transformed DataFrame with Proper Column Names:\n",
            "  SleepHours     RaceEthnicityCategory Sex_Female Sex_Male  \\\n",
            "0        8.0  White only, Non-Hispanic        1.0      0.0   \n",
            "1        6.0  White only, Non-Hispanic        1.0      0.0   \n",
            "2        5.0  White only, Non-Hispanic        1.0      0.0   \n",
            "3        7.0  White only, Non-Hispanic        1.0      0.0   \n",
            "4        9.0  White only, Non-Hispanic        1.0      0.0   \n",
            "\n",
            "  RaceEthnicityCategory_Black only, Non-Hispanic  \\\n",
            "0                                            0.0   \n",
            "1                                            0.0   \n",
            "2                                            0.0   \n",
            "3                                            0.0   \n",
            "4                                            0.0   \n",
            "\n",
            "  RaceEthnicityCategory_Hispanic  \\\n",
            "0                            0.0   \n",
            "1                            0.0   \n",
            "2                            0.0   \n",
            "3                            0.0   \n",
            "4                            0.0   \n",
            "\n",
            "  RaceEthnicityCategory_Multiracial, Non-Hispanic  \\\n",
            "0                                             0.0   \n",
            "1                                             0.0   \n",
            "2                                             0.0   \n",
            "3                                             0.0   \n",
            "4                                             0.0   \n",
            "\n",
            "  RaceEthnicityCategory_Other race only, Non-Hispanic  \\\n",
            "0                                                0.0    \n",
            "1                                                0.0    \n",
            "2                                                0.0    \n",
            "3                                                0.0    \n",
            "4                                                0.0    \n",
            "\n",
            "  RaceEthnicityCategory_White only, Non-Hispanic RaceEthnicityCategory_nan  \\\n",
            "0                                            1.0                       0.0   \n",
            "1                                            1.0                       0.0   \n",
            "2                                            1.0                       0.0   \n",
            "3                                            1.0                       0.0   \n",
            "4                                            1.0                       0.0   \n",
            "\n",
            "   ... HeightInMeters WeightInKilograms    BMI AlcoholDrinkers HIVTesting  \\\n",
            "0  ...            NaN               NaN    NaN              No         No   \n",
            "1  ...            1.6             68.04  26.57              No         No   \n",
            "2  ...           1.57              63.5  25.61              No         No   \n",
            "3  ...           1.65              63.5   23.3              No         No   \n",
            "4  ...           1.57             53.98  21.77             Yes         No   \n",
            "\n",
            "  FluVaxLast12 PneumoVaxEver  \\\n",
            "0          Yes            No   \n",
            "1           No            No   \n",
            "2           No            No   \n",
            "3          Yes           Yes   \n",
            "4           No           Yes   \n",
            "\n",
            "                                   TetanusLast10Tdap HighRiskLastYear CovidPos  \n",
            "0  Yes, received tetanus shot but not sure what type               No       No  \n",
            "1  No, did not receive any tetanus shot in the pa...               No       No  \n",
            "2                                                NaN               No      Yes  \n",
            "3  No, did not receive any tetanus shot in the pa...               No       No  \n",
            "4  No, did not receive any tetanus shot in the pa...               No       No  \n",
            "\n",
            "[5 rows x 47 columns]\n"
          ]
        }
      ]
    },
    {
      "cell_type": "markdown",
      "source": [
        "Pipeline"
      ],
      "metadata": {
        "id": "3QuIiJueGkwg"
      }
    },
    {
      "cell_type": "code",
      "source": [
        "import pandas as pd\n",
        "from sklearn.compose import ColumnTransformer\n",
        "from sklearn.preprocessing import OneHotEncoder, FunctionTransformer\n",
        "from sklearn.impute import SimpleImputer\n",
        "from sklearn.pipeline import Pipeline\n",
        "\n",
        "data = pd.read_csv('heart_disease.csv')\n",
        "\n",
        "numeric_columns = ['SleepHours', 'HeightInMeters', 'WeightInKilograms', 'BMI', 'PhysicalHealthDays', 'MentalHealthDays']\n",
        "categorical_columns = ['RaceEthnicityCategory', 'Sex']\n",
        "\n",
        "def impute_race(X):\n",
        "    X = X.copy()\n",
        "    X['RaceEthnicityCategory'] = X['RaceEthnicityCategory'].fillna(X['RaceEthnicityCategory'].mode()[0])\n",
        "    return X\n",
        "\n",
        "preprocessor = ColumnTransformer(transformers=[\n",
        "    ('numeric_imputer', SimpleImputer(strategy='mean'), numeric_columns),\n",
        "\n",
        "    ('race_encoder', Pipeline(steps=[\n",
        "        ('imputer', FunctionTransformer(impute_race)),\n",
        "        ('onehot', OneHotEncoder())\n",
        "    ]), ['RaceEthnicityCategory']),\n",
        "\n",
        "    ('sex_encoder', OneHotEncoder(), ['Sex'])\n",
        "], remainder='passthrough')\n",
        "\n",
        "transformed_data = preprocessor.fit_transform(data)\n",
        "\n",
        "transformed_df = pd.DataFrame(transformed_data)\n",
        "\n",
        "print(\"\\nTransformed DataFrame:\")\n",
        "print(transformed_df.head())\n"
      ],
      "metadata": {
        "colab": {
          "base_uri": "https://localhost:8080/"
        },
        "id": "5JlcCsbwGmKi",
        "outputId": "4d957dcc-577f-4061-b0d3-da4eee6da343"
      },
      "execution_count": 88,
      "outputs": [
        {
          "output_type": "stream",
          "name": "stdout",
          "text": [
            "\n",
            "Transformed DataFrame:\n",
            "    0         1         2          3    4    5    6    7    8    9   ...  \\\n",
            "0  8.0  1.702691  83.07447  28.529842  0.0  0.0  0.0  0.0  0.0  0.0  ...   \n",
            "1  6.0       1.6     68.04      26.57  0.0  0.0  0.0  0.0  0.0  0.0  ...   \n",
            "2  5.0      1.57      63.5      25.61  2.0  3.0  0.0  0.0  0.0  0.0  ...   \n",
            "3  7.0      1.65      63.5       23.3  0.0  0.0  0.0  0.0  0.0  0.0  ...   \n",
            "4  9.0      1.57     53.98      21.77  2.0  0.0  0.0  0.0  0.0  0.0  ...   \n",
            "\n",
            "                                          35   36               37   38  39  \\\n",
            "0                     Not at all (right now)   No  Age 80 or older   No  No   \n",
            "1  Never used e-cigarettes in my entire life   No  Age 80 or older   No  No   \n",
            "2  Never used e-cigarettes in my entire life   No     Age 55 to 59   No  No   \n",
            "3  Never used e-cigarettes in my entire life  Yes              NaN   No  No   \n",
            "4  Never used e-cigarettes in my entire life  Yes     Age 40 to 44  Yes  No   \n",
            "\n",
            "    40   41                                                 42  43   44  \n",
            "0  Yes   No  Yes, received tetanus shot but not sure what type  No   No  \n",
            "1   No   No  No, did not receive any tetanus shot in the pa...  No   No  \n",
            "2   No   No                                                NaN  No  Yes  \n",
            "3  Yes  Yes  No, did not receive any tetanus shot in the pa...  No   No  \n",
            "4   No  Yes  No, did not receive any tetanus shot in the pa...  No   No  \n",
            "\n",
            "[5 rows x 45 columns]\n"
          ]
        }
      ]
    }
  ]
}