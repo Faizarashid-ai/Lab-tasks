{
  "nbformat": 4,
  "nbformat_minor": 0,
  "metadata": {
    "colab": {
      "provenance": []
    },
    "kernelspec": {
      "name": "python3",
      "display_name": "Python 3"
    },
    "language_info": {
      "name": "python"
    }
  },
  "cells": [
    {
      "cell_type": "code",
      "execution_count": null,
      "metadata": {
        "colab": {
          "base_uri": "https://localhost:8080/"
        },
        "id": "XFwb1lsKGPWk",
        "outputId": "caedadee-9d07-4b80-83cf-c2c5886718a1"
      },
      "outputs": [
        {
          "name": "stdout",
          "output_type": "stream",
          "text": [
            "Enter student ID (or type 'stop' to finish): stop\n",
            "\n",
            "Student Data Dictionary:\n",
            "{}\n",
            "\n",
            "Enter student ID to query (or type 'stop' to exit): stop\n"
          ]
        }
      ],
      "source": [
        "def main():\n",
        "    student_ids = []\n",
        "    names = []\n",
        "    cities = []\n",
        "\n",
        "    # Step 1: Collect student data\n",
        "    while True:\n",
        "        student_id = input(\"Enter student ID (or type 'stop' to finish): \")\n",
        "\n",
        "        if student_id.lower() == 'stop':\n",
        "            break\n",
        "\n",
        "        name = input(\"Enter student's name: \")\n",
        "        city = input(\"Enter student's city: \")\n",
        "\n",
        "        student_ids.append(student_id)\n",
        "        names.append(name)\n",
        "        cities.append(city)\n",
        "\n",
        "    # Step 2: Create the dictionary\n",
        "    student_dict = {}\n",
        "    for i in range(len(student_ids)):\n",
        "        student_dict[student_ids[i]] = [names[i], cities[i]]\n",
        "\n",
        "    print(\"\\nStudent Data Dictionary:\")\n",
        "    print(student_dict)\n",
        "\n",
        "    # Step 3: Query the data\n",
        "    while True:\n",
        "        query_id = input(\"\\nEnter student ID to query (or type 'stop' to exit): \")\n",
        "\n",
        "        if query_id.lower() == 'stop':\n",
        "            break\n",
        "\n",
        "        if query_id in student_dict:\n",
        "            print(f\"Student Name: {student_dict[query_id][0]}\")\n",
        "            print(f\"Student City: {student_dict[query_id][1]}\")\n",
        "        else:\n",
        "            print(\"Student ID not found.\")\n",
        "\n",
        "if __name__ == \"__main__\":\n",
        "    main()"
      ]
    },
    {
      "cell_type": "code",
      "source": [
        "stName=[]\n",
        "stId=[]\n",
        "stCity=[]\n",
        "while True:\n",
        "  id=input(\"Enter the student id: \")\n",
        "  if(id=='stop'):\n",
        "    break\n",
        "  name=input(\"Enter student name: \")\n",
        "  city=input(\"Enter city name: \")\n",
        "\n",
        "  stId.append(id)\n",
        "  stName.append(name)\n",
        "  stCity.append(city)\n",
        "\n",
        "student_dict={}\n",
        "for i in range(len(stId)):\n",
        "  student_dict[stId[i]]=[stName[i],stCity[i]]\n",
        "\n",
        "x={}\n",
        "x=input(\"Do you want to print the Student data dictionary y/n  \")\n",
        "if(x=='y'):\n",
        "  print(student_dict)\n",
        "\n",
        "#print(student_dict)\n",
        "y={}\n",
        "y=input(\"Any Query  \")\n",
        "if(y=='y'):\n",
        "  query=input(\"Write Student ID\")\n",
        "  if query in student_dict:\n",
        "     print(f\"Student Name: {student_dict[query][0]}\")\n",
        "     print(f\"Student City: {student_dict[query][1]}\")\n",
        "\n",
        "  else:\n",
        "    print(\"Student ID is not in dictionary\")"
      ],
      "metadata": {
        "colab": {
          "base_uri": "https://localhost:8080/"
        },
        "id": "CEs0L4U_G1Qn",
        "outputId": "cf465746-d4cd-4000-84c9-a41af2c56e2d"
      },
      "execution_count": null,
      "outputs": [
        {
          "output_type": "stream",
          "name": "stdout",
          "text": [
            "Enter the student id: 4\n",
            "Enter student name: grtg\n",
            "Enter city name: gtrtgr\n",
            "Enter the student id: 6\n",
            "Enter student name: yht\n",
            "Enter city name: tyh\n",
            "Enter the student id: 3\n",
            "Enter student name: rtg\n",
            "Enter city name: tht\n",
            "Enter the student id: stop\n",
            "Do you want to print the Student data dictionary y/n  y\n",
            "{'4': ['grtg', 'gtrtgr'], '6': ['yht', 'tyh'], '3': ['rtg', 'tht']}\n",
            "Any Query  y\n",
            "Write Student ID6\n",
            "Student Name: yht\n",
            "Student City: tyh\n"
          ]
        }
      ]
    }
  ]
}